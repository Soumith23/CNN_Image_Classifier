{
  "nbformat": 4,
  "nbformat_minor": 0,
  "metadata": {
    "colab": {
      "provenance": []
    },
    "kernelspec": {
      "name": "python3",
      "display_name": "Python 3"
    },
    "language_info": {
      "name": "python"
    },
    "accelerator": "GPU",
    "gpuClass": "standard"
  },
  "cells": [
    {
      "cell_type": "code",
      "execution_count": 34,
      "metadata": {
        "id": "bAEAsk4l5BL7"
      },
      "outputs": [],
      "source": [
        "import tensorflow as tf\n",
        "import pandas as pd \n",
        "import numpy as np\n",
        "from matplotlib import pyplot as plt\n",
        "# Load the dataset from keras\n",
        "from tensorflow.keras.datasets import mnist\n",
        "\n",
        "(train_x, train_y), (test_x, test_y) = mnist.load_data()"
      ]
    },
    {
      "cell_type": "code",
      "source": [
        "# test and train data sets size\n",
        "\n",
        "print(\"training data set: x:%s , y:%s\"%(train_x.shape, train_y.shape))\n",
        "print(\"Testing data set: x:%s, y:%s\" % (test_x.shape, test_y.shape))"
      ],
      "metadata": {
        "colab": {
          "base_uri": "https://localhost:8080/"
        },
        "id": "ODq2cJBC5Loc",
        "outputId": "f723b390-2a1b-40db-c3be-b53a3c2153c2"
      },
      "execution_count": 35,
      "outputs": [
        {
          "output_type": "stream",
          "name": "stdout",
          "text": [
            "training data set: x:(60000, 28, 28) , y:(60000,)\n",
            "Testing data set: x:(10000, 28, 28), y:(10000,)\n"
          ]
        }
      ]
    },
    {
      "cell_type": "code",
      "source": [
        "ndata_train = train_x.shape[0]\n",
        "ndata_test = test_x.shape[0]\n",
        "\n",
        "#Scaling them to be within 0 to 1\n",
        "train_x, test_x = train_x/255, test_x/255\n",
        "\n",
        "#Visualize a few images\n",
        "for i in range(8):\n",
        "  plt.subplot(240 + 1 + i)\n",
        "  plt.imshow(train_x[i], cmap= plt.get_cmap('gray'))\n",
        "  plt.axis('off')\n"
      ],
      "metadata": {
        "colab": {
          "base_uri": "https://localhost:8080/",
          "height": 222
        },
        "id": "JNDwvlNf5NZM",
        "outputId": "b00955e7-ec79-4a32-a9b5-690cb9164791"
      },
      "execution_count": 36,
      "outputs": [
        {
          "output_type": "display_data",
          "data": {
            "text/plain": [
              "<Figure size 432x288 with 8 Axes>"
            ],
            "image/png": "[encoded data removed]"
          },
          "metadata": {
            "needs_background": "light"
          }
        }
      ]
    },
    {
      "cell_type": "code",
      "source": [
        "#Reshaping into a 3D matrix of all images\n",
        "train_x = train_x.reshape((ndata_train,28,28,1))\n",
        "test_x = test_x.reshape((ndata_test,28,28,1))\n",
        "\n",
        "#Recording the shape of x\n",
        "xshape = train_x.shape[1:4]\n",
        "\n",
        "train_x.shape[1:4]"
      ],
      "metadata": {
        "colab": {
          "base_uri": "https://localhost:8080/"
        },
        "id": "NYVyPini5YTT",
        "outputId": "58d35bed-96db-4544-92aa-37047ad53798"
      },
      "execution_count": 37,
      "outputs": [
        {
          "output_type": "execute_result",
          "data": {
            "text/plain": [
              "(28, 28, 1)"
            ]
          },
          "metadata": {},
          "execution_count": 37
        }
      ]
    },
    {
      "cell_type": "code",
      "source": [
        "\n",
        "from tensorflow._api.v2.nn import softplus, softmax\n",
        "from tensorflow.python.ops.nn_ops import relu\n",
        "from keras.layers import Dense, Dropout, Flatten, Conv2D, MaxPool2D, BatchNormalization\n",
        "\n",
        "from tensorflow.keras.layers.experimental import preprocessing\n",
        "\n",
        "\n",
        "#Define a Sequential Addition of Layers in TensorFlow/Keras\n",
        "NNmodel = tf.keras.models.Sequential([preprocessing.RandomRotation(factor=0.05, fill_mode='constant'), \n",
        "                                      preprocessing.RandomZoom(height_factor=(-0.1,0.1), width_factor=(-0.1,0.1), fill_mode='constant'),\n",
        "                                      preprocessing.RandomCrop(27,27)])\n",
        "# [preprocessing.RandomRotation(factor=0.05, fill_mode='constant'), preprocessing.RandomZoom(height_factor=(-0.1,0.1), width_factor=(-0.1,0.1), fill_mode='constant')]\n",
        "\n",
        "#Add the first convolution layer\n",
        "NNmodel.add(tf.keras.layers.Conv2D(filters=16,kernel_size = (4,4), activation = tf.nn.relu, input_shape=xshape))\n",
        "\n",
        "NNmodel.add(BatchNormalization())\n",
        "\n",
        "#Add the second convolution layer\n",
        "NNmodel.add(tf.keras.layers.Conv2D(filters=16,kernel_size = (4,4), activation = tf.nn.sigmoid, input_shape=xshape))\n",
        "\n",
        "NNmodel.add(BatchNormalization())\n",
        "\n",
        "#Add the Max Pooling layer\n",
        "NNmodel.add(tf.keras.layers.MaxPooling2D(pool_size=(2,2), strides=1))\n",
        "\n",
        "NNmodel.add(Dropout(0.25))\n",
        "\n",
        "\n",
        "#############################################################################################################\n",
        "#Add the first convolution layer\n",
        "NNmodel.add(tf.keras.layers.Conv2D(filters=32,kernel_size = (4,4), activation = tf.nn.relu, input_shape=xshape))\n",
        "\n",
        "NNmodel.add(BatchNormalization())\n",
        "\n",
        "#Add the second convolution layer\n",
        "NNmodel.add(tf.keras.layers.Conv2D(filters=32,kernel_size = (4,4), activation = tf.nn.sigmoid, input_shape=xshape))\n",
        "\n",
        "NNmodel.add(BatchNormalization())\n",
        "\n",
        "#Add the Max Pooling layer\n",
        "NNmodel.add(tf.keras.layers.MaxPooling2D(pool_size=(2,2), strides=1))\n",
        "\n",
        "NNmodel.add(Dropout(0.25))\n",
        "#############################################################################################################\n",
        "\n",
        "\n",
        "#############################################################################################################\n",
        "#Add the first convolution layer\n",
        "NNmodel.add(tf.keras.layers.Conv2D(filters=64,kernel_size = (4,4), activation = tf.nn.relu, input_shape=xshape))\n",
        "\n",
        "NNmodel.add(BatchNormalization())\n",
        "\n",
        "#Add the second convolution layer\n",
        "NNmodel.add(tf.keras.layers.Conv2D(filters=64,kernel_size = (4,4), activation = tf.nn.sigmoid, input_shape=xshape))\n",
        "\n",
        "NNmodel.add(BatchNormalization())\n",
        "\n",
        "#Add the Max Pooling layer\n",
        "NNmodel.add(tf.keras.layers.MaxPooling2D(pool_size=(2,2), strides=1))\n",
        "\n",
        "NNmodel.add(Dropout(0.25))\n",
        "#############################################################################################################\n",
        "\n",
        "\n",
        "#Flattten the convoluted and pooled output\n",
        "NNmodel.add(tf.keras.layers.Flatten())\n",
        "\n",
        "#Add the dense layer - with relu activation\n",
        "NNmodel.add(tf.keras.layers.Dense(512, activation=relu, kernel_regularizer=tf.keras.regularizers.l1(0.0002)))\n",
        "NNmodel.add(Dropout(0.25))\n",
        "\n",
        "#Add another dense layer - with softplus activation\n",
        "NNmodel.add(tf.keras.layers.Dense(1024, activation=softplus, kernel_regularizer=tf.keras.regularizers.l1(0.0005)))\n",
        "NNmodel.add(Dropout(0.5))\n",
        "\n",
        "#Add another dense layer - with softmax activation\n",
        "NNmodel.add(tf.keras.layers.Dense(10, activation=softmax))\n",
        "\n",
        "NNmodel.compile(optimizer='adam', loss='sparse_categorical_crossentropy', metrics=['accuracy'])\n",
        "\n",
        "NNmodel.build(train_x.shape)\n",
        "\n",
        "NNmodel.summary()"
      ],
      "metadata": {
        "colab": {
          "base_uri": "https://localhost:8080/"
        },
        "id": "BFxdzLgc6oI2",
        "outputId": "b6866fda-dc9b-4c1f-9ba5-761036bf9cfa"
      },
      "execution_count": 38,
      "outputs": [
        {
          "output_type": "stream",
          "name": "stdout",
          "text": [
            "Model: \"sequential_2\"\n",
            "_________________________________________________________________\n",
            " Layer (type)                Output Shape              Param #   \n",
            "=================================================================\n",
            " random_rotation_2 (RandomRo  (60000, 28, 28, 1)       0         \n",
            " tation)                                                         \n",
            "                                                                 \n",
            " random_zoom_2 (RandomZoom)  (60000, 28, 28, 1)        0         \n",
            "                                                                 \n",
            " random_crop_2 (RandomCrop)  (60000, 27, 27, 1)        0         \n",
            "                                                                 \n",
            " conv2d_12 (Conv2D)          (60000, 24, 24, 16)       272       \n",
            "                                                                 \n",
            " batch_normalization_12 (Bat  (60000, 24, 24, 16)      64        \n",
            " chNormalization)                                                \n",
            "                                                                 \n",
            " conv2d_13 (Conv2D)          (60000, 21, 21, 16)       4112      \n",
            "                                                                 \n",
            " batch_normalization_13 (Bat  (60000, 21, 21, 16)      64        \n",
            " chNormalization)                                                \n",
            "                                                                 \n",
            " max_pooling2d_6 (MaxPooling  (60000, 20, 20, 16)      0         \n",
            " 2D)                                                             \n",
            "                                                                 \n",
            " dropout_10 (Dropout)        (60000, 20, 20, 16)       0         \n",
            "                                                                 \n",
            " conv2d_14 (Conv2D)          (60000, 17, 17, 32)       8224      \n",
            "                                                                 \n",
            " batch_normalization_14 (Bat  (60000, 17, 17, 32)      128       \n",
            " chNormalization)                                                \n",
            "                                                                 \n",
            " conv2d_15 (Conv2D)          (60000, 14, 14, 32)       16416     \n",
            "                                                                 \n",
            " batch_normalization_15 (Bat  (60000, 14, 14, 32)      128       \n",
            " chNormalization)                                                \n",
            "                                                                 \n",
            " max_pooling2d_7 (MaxPooling  (60000, 13, 13, 32)      0         \n",
            " 2D)                                                             \n",
            "                                                                 \n",
            " dropout_11 (Dropout)        (60000, 13, 13, 32)       0         \n",
            "                                                                 \n",
            " conv2d_16 (Conv2D)          (60000, 10, 10, 64)       32832     \n",
            "                                                                 \n",
            " batch_normalization_16 (Bat  (60000, 10, 10, 64)      256       \n",
            " chNormalization)                                                \n",
            "                                                                 \n",
            " conv2d_17 (Conv2D)          (60000, 7, 7, 64)         65600     \n",
            "                                                                 \n",
            " batch_normalization_17 (Bat  (60000, 7, 7, 64)        256       \n",
            " chNormalization)                                                \n",
            "                                                                 \n",
            " max_pooling2d_8 (MaxPooling  (60000, 6, 6, 64)        0         \n",
            " 2D)                                                             \n",
            "                                                                 \n",
            " dropout_12 (Dropout)        (60000, 6, 6, 64)         0         \n",
            "                                                                 \n",
            " flatten_2 (Flatten)         (60000, 2304)             0         \n",
            "                                                                 \n",
            " dense_6 (Dense)             (60000, 512)              1180160   \n",
            "                                                                 \n",
            " dropout_13 (Dropout)        (60000, 512)              0         \n",
            "                                                                 \n",
            " dense_7 (Dense)             (60000, 1024)             525312    \n",
            "                                                                 \n",
            " dropout_14 (Dropout)        (60000, 1024)             0         \n",
            "                                                                 \n",
            " dense_8 (Dense)             (60000, 10)               10250     \n",
            "                                                                 \n",
            "=================================================================\n",
            "Total params: 1,844,074\n",
            "Trainable params: 1,843,626\n",
            "Non-trainable params: 448\n",
            "_________________________________________________________________\n"
          ]
        }
      ]
    },
    {
      "cell_type": "code",
      "source": [
        "\n",
        "history = NNmodel.fit(train_x, train_y, epochs = 10, validation_split=0.2, batch_size=200, verbose=0)\n",
        "\n",
        "train_acc = NNmodel.evaluate(train_x, train_y, verbose=1)\n",
        "test_acc = NNmodel.evaluate(test_x, test_y, verbose=1)\n",
        "print(\"train loss and accuracy\")\n",
        "print(train_acc)\n",
        "print(\"test loss and accuracy\")\n",
        "print(test_acc)\n"
      ],
      "metadata": {
        "colab": {
          "base_uri": "https://localhost:8080/"
        },
        "id": "-xZoLws36vmo",
        "outputId": "383d76a0-a18e-4e8c-c056-82378cbbbdc3"
      },
      "execution_count": 39,
      "outputs": [
        {
          "output_type": "stream",
          "name": "stdout",
          "text": [
            "1875/1875 [==============================] - 9s 4ms/step - loss: 0.2408 - accuracy: 0.9916\n",
            "313/313 [==============================] - 1s 4ms/step - loss: 0.2430 - accuracy: 0.9907\n",
            "train loss and accuracy\n",
            "[0.24082159996032715, 0.9915833473205566]\n",
            "test loss and accuracy\n",
            "[0.24299423396587372, 0.9907000064849854]\n"
          ]
        }
      ]
    },
    {
      "cell_type": "markdown",
      "source": [
        "**Both the training and validation accuracies have been found to be more than 99%**\n"
      ],
      "metadata": {
        "id": "Gd2pg7E6MbZS"
      }
    },
    {
      "cell_type": "markdown",
      "source": [
        "# Retrain the model on the entire  data and save the model"
      ],
      "metadata": {
        "id": "vHbcXqMl_0se"
      }
    },
    {
      "cell_type": "code",
      "source": [
        "from keras.callbacks import EarlyStopping, ModelCheckpoint\n",
        "from keras.models import load_model\n",
        "\n",
        "# Create whole X and Y data\n",
        "X = np.append(train_x, test_x, axis=0)\n",
        "Y = np.append(train_y, test_y, axis=0)\n",
        "\n",
        "\n",
        "# simple early stopping\n",
        "es = EarlyStopping(monitor='val_loss', mode='min', verbose=1)\n",
        "mc = ModelCheckpoint('best_model.h5', monitor='val_accuracy', mode='max', verbose=1, save_best_only=True)\n",
        "NNmodel.save(\"best_model.h5\")\n",
        "print(\"saved the best model\")\n",
        "# fit model\n",
        "history = NNmodel.fit(X, Y, epochs = 10, validation_split=0.2, batch_size=200, verbose=1, callbacks=[es])\n",
        "# evaluate the model\n",
        "train_acc = NNmodel.evaluate(X, Y, verbose=0)\n",
        "test_acc = NNmodel.evaluate(test_x, test_y, verbose=0)\n",
        "print(\"train loss and accuracy\")\n",
        "print(train_acc)\n",
        "print(\"test loss and accuracy\")\n",
        "print(test_acc)\n"
      ],
      "metadata": {
        "colab": {
          "base_uri": "https://localhost:8080/"
        },
        "id": "RT0XVRH26ztH",
        "outputId": "984d7c83-2daf-4ba5-a28f-35eaeedd3c12"
      },
      "execution_count": 41,
      "outputs": [
        {
          "output_type": "stream",
          "name": "stdout",
          "text": [
            "saved the best model\n",
            "Epoch 1/10\n",
            "280/280 [==============================] - 5s 17ms/step - loss: 0.2981 - accuracy: 0.9769 - val_loss: 0.2780 - val_accuracy: 0.9860\n",
            "Epoch 2/10\n",
            "280/280 [==============================] - 5s 16ms/step - loss: 0.2939 - accuracy: 0.9780 - val_loss: 0.2228 - val_accuracy: 0.9926\n",
            "Epoch 2: early stopping\n",
            "train loss and accuracy\n",
            "[0.2210293412208557, 0.9936857223510742]\n",
            "test loss and accuracy\n",
            "[0.22163589298725128, 0.9930999875068665]\n"
          ]
        }
      ]
    },
    {
      "cell_type": "markdown",
      "source": [
        "Here we can see that both the training and testing accuracies have been been improved owing to more no of examples for the model to learn from. As the increase in both test and train is comparable we can consider that the model is able to generalize well and isn't overfitting. This can help the model to generalize better and make more accurate predictions on unseen data."
      ],
      "metadata": {
        "id": "yfmo9HrjHM2B"
      }
    },
    {
      "cell_type": "markdown",
      "source": [
        "# Check the images misclassified"
      ],
      "metadata": {
        "id": "wI2jwDR7CydH"
      }
    },
    {
      "cell_type": "code",
      "source": [
        "# get the predictions\n",
        "predictions = NNmodel.predict(X)\n",
        "\n",
        "# convert the predictions to a categorical format\n",
        "predictions = tf.argmax(predictions, axis=1)\n",
        "\n",
        "# get the misclassified records\n",
        "misclassified = tf.not_equal(predictions, Y)\n",
        "misclassified_indices = tf.where(misclassified)\n",
        "misclassified_images = tf.gather(X, misclassified_indices)\n",
        "misclassified_labels = tf.gather(Y, misclassified_indices)"
      ],
      "metadata": {
        "colab": {
          "base_uri": "https://localhost:8080/"
        },
        "id": "qsbZz-_lCx4A",
        "outputId": "19741305-ebc2-4cc6-9e2f-2aaeed1bf07d"
      },
      "execution_count": 42,
      "outputs": [
        {
          "output_type": "stream",
          "name": "stdout",
          "text": [
            "2188/2188 [==============================] - 7s 3ms/step\n"
          ]
        }
      ]
    },
    {
      "cell_type": "code",
      "source": [
        "\n",
        "# convert tensor to numpy array\n",
        "image_np = misclassified_images[0].numpy()\n",
        "# reshape the image to 28x28 pixels\n",
        "image_np = np.reshape(image_np, (28,28))\n",
        "# plot the image\n",
        "plt.imshow(image_np, cmap='gray')\n",
        "plt.show()\n",
        "\n",
        "misclassified_predictions = tf.gather(predictions, misclassified_indices)\n",
        "misclassified_labels = tf.gather(Y, misclassified_indices)\n",
        "\n",
        "print(\"Predicted label: \", misclassified_predictions[0])\n",
        "print(\"True label: \", misclassified_labels[0])"
      ],
      "metadata": {
        "colab": {
          "base_uri": "https://localhost:8080/",
          "height": 301
        },
        "id": "32mOUf_aEofP",
        "outputId": "5d8ae3e8-8028-4013-8141-f70e1e503d61"
      },
      "execution_count": 43,
      "outputs": [
        {
          "output_type": "display_data",
          "data": {
            "text/plain": [
              "<Figure size 432x288 with 1 Axes>"
            ],
            "image/png": "[encoded data removed]"
          },
          "metadata": {
            "needs_background": "light"
          }
        },
        {
          "output_type": "stream",
          "name": "stdout",
          "text": [
            "Predicted label:  tf.Tensor([2], shape=(1,), dtype=int64)\n",
            "True label:  tf.Tensor([1], shape=(1,), dtype=uint8)\n"
          ]
        }
      ]
    },
    {
      "cell_type": "code",
      "source": [
        "\n",
        "# convert tensor to numpy array\n",
        "image_np = misclassified_images[1].numpy()\n",
        "# reshape the image to 28x28 pixels\n",
        "image_np = np.reshape(image_np, (28,28))\n",
        "# plot the image\n",
        "plt.imshow(image_np, cmap='gray')\n",
        "plt.show()\n",
        "\n",
        "misclassified_predictions = tf.gather(predictions, misclassified_indices)\n",
        "misclassified_labels = tf.gather(Y, misclassified_indices)\n",
        "\n",
        "print(\"Predicted label: \", misclassified_predictions[1])\n",
        "print(\"True label: \", misclassified_labels[1])"
      ],
      "metadata": {
        "colab": {
          "base_uri": "https://localhost:8080/",
          "height": 301
        },
        "id": "7TQ0phwdEw25",
        "outputId": "cc4a7592-233e-44e2-b357-03169d10997d"
      },
      "execution_count": 44,
      "outputs": [
        {
          "output_type": "display_data",
          "data": {
            "text/plain": [
              "<Figure size 432x288 with 1 Axes>"
            ],
            "image/png": "[encoded data removed]"
          },
          "metadata": {
            "needs_background": "light"
          }
        },
        {
          "output_type": "stream",
          "name": "stdout",
          "text": [
            "Predicted label:  tf.Tensor([8], shape=(1,), dtype=int64)\n",
            "True label:  tf.Tensor([9], shape=(1,), dtype=uint8)\n"
          ]
        }
      ]
    },
    {
      "cell_type": "code",
      "source": [
        "\n",
        "# convert tensor to numpy array\n",
        "image_np = misclassified_images[2].numpy()\n",
        "# reshape the image to 28x28 pixels\n",
        "image_np = np.reshape(image_np, (28,28))\n",
        "# plot the image\n",
        "plt.imshow(image_np, cmap='gray')\n",
        "plt.show()\n",
        "\n",
        "misclassified_predictions = tf.gather(predictions, misclassified_indices)\n",
        "misclassified_labels = tf.gather(Y, misclassified_indices)\n",
        "\n",
        "print(\"Predicted label: \", misclassified_predictions[2])\n",
        "print(\"True label: \", misclassified_labels[2])"
      ],
      "metadata": {
        "colab": {
          "base_uri": "https://localhost:8080/",
          "height": 301
        },
        "id": "7YUPGXo1GJMp",
        "outputId": "334685fb-b42f-448e-9eb4-878f73a4c2d6"
      },
      "execution_count": 45,
      "outputs": [
        {
          "output_type": "display_data",
          "data": {
            "text/plain": [
              "<Figure size 432x288 with 1 Axes>"
            ],
            "image/png": "[encoded data removed]"
          },
          "metadata": {
            "needs_background": "light"
          }
        },
        {
          "output_type": "stream",
          "name": "stdout",
          "text": [
            "Predicted label:  tf.Tensor([7], shape=(1,), dtype=int64)\n",
            "True label:  tf.Tensor([9], shape=(1,), dtype=uint8)\n"
          ]
        }
      ]
    },
    {
      "cell_type": "markdown",
      "source": [
        "#### As we can see the images which have been misclassified are very difficult even for a human to interpret. I think the author of this image after a few days may not be able to recognize such images. \n",
        "\n",
        "#### Therefore it isn't reasonable to expect 100% accuracy - if anyone claims 100% accuracy it should be by fluke and doesn't represent the real world scenario"
      ],
      "metadata": {
        "id": "7wYODVEUGRwx"
      }
    },
    {
      "cell_type": "code",
      "source": [
        "# create a confusion matrix to store the mix-up counts\n",
        "confusion_matrix = tf.math.confusion_matrix(Y, predictions)\n",
        "\n",
        "confusion_matrix"
      ],
      "metadata": {
        "colab": {
          "base_uri": "https://localhost:8080/"
        },
        "id": "FctyCWp3IpLq",
        "outputId": "3ae39d3d-b2c6-4c4e-a3b6-cd88feada2d5"
      },
      "execution_count": 46,
      "outputs": [
        {
          "output_type": "execute_result",
          "data": {
            "text/plain": [
              "<tf.Tensor: shape=(10, 10), dtype=int32, numpy=\n",
              "array([[6873,    1,    2,    2,    1,    0,   19,    1,    2,    2],\n",
              "       [   0, 7831,   11,    4,    1,    9,    3,   17,    0,    1],\n",
              "       [   2,    3, 6954,    4,    0,    0,    0,   24,    3,    0],\n",
              "       [   0,    0,    9, 7097,    0,   23,    0,    2,    8,    2],\n",
              "       [   0,    4,    1,    0, 6782,    0,    1,    4,    0,   32],\n",
              "       [   2,    0,    1,   11,    0, 6252,   35,    2,    8,    2],\n",
              "       [   5,    3,    2,    1,    5,    5, 6853,    0,    2,    0],\n",
              "       [   0,    6,    5,    4,    2,    0,    0, 7268,    1,    7],\n",
              "       [   3,    6,   11,    4,    6,    5,    9,    4, 6768,    9],\n",
              "       [   0,    1,    0,    2,   37,    6,    0,   23,    9, 6880]],\n",
              "      dtype=int32)>"
            ]
          },
          "metadata": {},
          "execution_count": 46
        }
      ]
    },
    {
      "cell_type": "code",
      "source": [
        "from matplotlib import pyplot as plt\n",
        "import seaborn as sns\n",
        "# Visualising confusion matrix\n",
        "plt.figure(figsize = (16,14),facecolor='white')\n",
        "heatmap = sns.heatmap(confusion_matrix, annot = True, annot_kws = {'size': 20}, fmt = 'd', cmap = 'YlGnBu')\n",
        "heatmap.yaxis.set_ticklabels(heatmap.yaxis.get_ticklabels(), rotation = 0, ha = 'right', fontsize = 18, weight='bold')\n",
        "heatmap.xaxis.set_ticklabels(heatmap.xaxis.get_ticklabels(), rotation = 0, ha = 'right', fontsize = 18, weight='bold')\n",
        "\n",
        "plt.title('Confusion Matrix\\n', fontsize = 18, color = 'darkblue')\n",
        "plt.ylabel('True label', fontsize = 14)\n",
        "plt.xlabel('Predicted label', fontsize = 14)\n",
        "plt.show()"
      ],
      "metadata": {
        "colab": {
          "base_uri": "https://localhost:8080/",
          "height": 876
        },
        "id": "ivnt9hZpKXiU",
        "outputId": "2873ebb7-2480-47a3-9067-46669db0ca2a"
      },
      "execution_count": 47,
      "outputs": [
        {
          "output_type": "display_data",
          "data": {
            "text/plain": [
              "<Figure size 1152x1008 with 2 Axes>"
            ],
            "image/png": "[encoded data removed]"
          },
          "metadata": {}
        }
      ]
    },
    {
      "cell_type": "code",
      "source": [
        "\n",
        "# find the 2nd most common mix-up for each label\n",
        "common_mixup = {}\n",
        "for i in range(10):\n",
        "    # find the index of the highest mix-up count for the current label\n",
        "    max_index = tf.argmax(confusion_matrix[i, :])\n",
        "    # find the count of the highest mix-up\n",
        "    max_value = tf.reduce_max(confusion_matrix[i, :])\n",
        "    # find the index of the second highest mix-up count for the current label\n",
        "    second_max_index = tf.argsort(confusion_matrix[i, :],direction='DESCENDING')[1]\n",
        "    second_max_value = confusion_matrix[i][second_max_index]\n",
        "    common_mixup[i] = (second_max_index, second_max_value)\n",
        "    \n",
        "# print the 2nd common mix-up for each label\n",
        "for label, mixup in common_mixup.items():\n",
        "    print(\"Label: \", label, \" - 2nd Common mix-up: \", mixup[0], \" - Mix-up count: \", mixup[1])"
      ],
      "metadata": {
        "colab": {
          "base_uri": "https://localhost:8080/"
        },
        "id": "3DApjcgSJI58",
        "outputId": "a213f279-2c79-47bb-beea-e29e9bf4f7c5"
      },
      "execution_count": 48,
      "outputs": [
        {
          "output_type": "stream",
          "name": "stdout",
          "text": [
            "Label:  0  - 2nd Common mix-up:  tf.Tensor(6, shape=(), dtype=int32)  - Mix-up count:  tf.Tensor(19, shape=(), dtype=int32)\n",
            "Label:  1  - 2nd Common mix-up:  tf.Tensor(7, shape=(), dtype=int32)  - Mix-up count:  tf.Tensor(17, shape=(), dtype=int32)\n",
            "Label:  2  - 2nd Common mix-up:  tf.Tensor(7, shape=(), dtype=int32)  - Mix-up count:  tf.Tensor(24, shape=(), dtype=int32)\n",
            "Label:  3  - 2nd Common mix-up:  tf.Tensor(5, shape=(), dtype=int32)  - Mix-up count:  tf.Tensor(23, shape=(), dtype=int32)\n",
            "Label:  4  - 2nd Common mix-up:  tf.Tensor(9, shape=(), dtype=int32)  - Mix-up count:  tf.Tensor(32, shape=(), dtype=int32)\n",
            "Label:  5  - 2nd Common mix-up:  tf.Tensor(6, shape=(), dtype=int32)  - Mix-up count:  tf.Tensor(35, shape=(), dtype=int32)\n",
            "Label:  6  - 2nd Common mix-up:  tf.Tensor(0, shape=(), dtype=int32)  - Mix-up count:  tf.Tensor(5, shape=(), dtype=int32)\n",
            "Label:  7  - 2nd Common mix-up:  tf.Tensor(9, shape=(), dtype=int32)  - Mix-up count:  tf.Tensor(7, shape=(), dtype=int32)\n",
            "Label:  8  - 2nd Common mix-up:  tf.Tensor(2, shape=(), dtype=int32)  - Mix-up count:  tf.Tensor(11, shape=(), dtype=int32)\n",
            "Label:  9  - 2nd Common mix-up:  tf.Tensor(4, shape=(), dtype=int32)  - Mix-up count:  tf.Tensor(37, shape=(), dtype=int32)\n"
          ]
        }
      ]
    },
    {
      "cell_type": "markdown",
      "source": [
        "We can see that the most common mix up pairs are (6 and 8), (4 with 9), (7 with 1) and (9 with 4). This makes sense as the strokes in writing these numbers are very similar and the authors are prone to write these numbers with ambiguity for even normal humans to read and thus could be misclassified by the model."
      ],
      "metadata": {
        "id": "NzP137H8Jd6C"
      }
    },
    {
      "cell_type": "markdown",
      "source": [
        "# Load the saved model trained on entire data"
      ],
      "metadata": {
        "id": "Am5gLDkhCYyD"
      }
    },
    {
      "cell_type": "code",
      "source": [
        "# load and evaluate a saved model\n",
        "from numpy import loadtxt\n",
        "from tensorflow.keras.models import load_model\n",
        " \n",
        "# load model\n",
        "saved_model = load_model('best_model.h5')\n",
        "# summarize model.\n",
        "saved_model.summary()\n",
        "\n",
        "# evaluate the model\n",
        "score = saved_model.evaluate(test_x, test_y, verbose=0)\n",
        "print(\"%s: %.2f%%\" % (saved_model.metrics_names[1], score[1]*100))\n"
      ],
      "metadata": {
        "colab": {
          "base_uri": "https://localhost:8080/"
        },
        "id": "zxIpnJFr7JfE",
        "outputId": "6d59d408-08bd-4268-801c-12e3ec6a3812"
      },
      "execution_count": 49,
      "outputs": [
        {
          "output_type": "stream",
          "name": "stdout",
          "text": [
            "Model: \"sequential_2\"\n",
            "_________________________________________________________________\n",
            " Layer (type)                Output Shape              Param #   \n",
            "=================================================================\n",
            " random_rotation_2 (RandomRo  (None, 28, 28, 1)        0         \n",
            " tation)                                                         \n",
            "                                                                 \n",
            " random_zoom_2 (RandomZoom)  (None, 28, 28, 1)         0         \n",
            "                                                                 \n",
            " random_crop_2 (RandomCrop)  (None, 27, 27, 1)         0         \n",
            "                                                                 \n",
            " conv2d_12 (Conv2D)          (None, 24, 24, 16)        272       \n",
            "                                                                 \n",
            " batch_normalization_12 (Bat  (None, 24, 24, 16)       64        \n",
            " chNormalization)                                                \n",
            "                                                                 \n",
            " conv2d_13 (Conv2D)          (None, 21, 21, 16)        4112      \n",
            "                                                                 \n",
            " batch_normalization_13 (Bat  (None, 21, 21, 16)       64        \n",
            " chNormalization)                                                \n",
            "                                                                 \n",
            " max_pooling2d_6 (MaxPooling  (None, 20, 20, 16)       0         \n",
            " 2D)                                                             \n",
            "                                                                 \n",
            " dropout_10 (Dropout)        (None, 20, 20, 16)        0         \n",
            "                                                                 \n",
            " conv2d_14 (Conv2D)          (None, 17, 17, 32)        8224      \n",
            "                                                                 \n",
            " batch_normalization_14 (Bat  (None, 17, 17, 32)       128       \n",
            " chNormalization)                                                \n",
            "                                                                 \n",
            " conv2d_15 (Conv2D)          (None, 14, 14, 32)        16416     \n",
            "                                                                 \n",
            " batch_normalization_15 (Bat  (None, 14, 14, 32)       128       \n",
            " chNormalization)                                                \n",
            "                                                                 \n",
            " max_pooling2d_7 (MaxPooling  (None, 13, 13, 32)       0         \n",
            " 2D)                                                             \n",
            "                                                                 \n",
            " dropout_11 (Dropout)        (None, 13, 13, 32)        0         \n",
            "                                                                 \n",
            " conv2d_16 (Conv2D)          (None, 10, 10, 64)        32832     \n",
            "                                                                 \n",
            " batch_normalization_16 (Bat  (None, 10, 10, 64)       256       \n",
            " chNormalization)                                                \n",
            "                                                                 \n",
            " conv2d_17 (Conv2D)          (None, 7, 7, 64)          65600     \n",
            "                                                                 \n",
            " batch_normalization_17 (Bat  (None, 7, 7, 64)         256       \n",
            " chNormalization)                                                \n",
            "                                                                 \n",
            " max_pooling2d_8 (MaxPooling  (None, 6, 6, 64)         0         \n",
            " 2D)                                                             \n",
            "                                                                 \n",
            " dropout_12 (Dropout)        (None, 6, 6, 64)          0         \n",
            "                                                                 \n",
            " flatten_2 (Flatten)         (None, 2304)              0         \n",
            "                                                                 \n",
            " dense_6 (Dense)             (None, 512)               1180160   \n",
            "                                                                 \n",
            " dropout_13 (Dropout)        (None, 512)               0         \n",
            "                                                                 \n",
            " dense_7 (Dense)             (None, 1024)              525312    \n",
            "                                                                 \n",
            " dropout_14 (Dropout)        (None, 1024)              0         \n",
            "                                                                 \n",
            " dense_8 (Dense)             (None, 10)                10250     \n",
            "                                                                 \n",
            "=================================================================\n",
            "Total params: 1,844,074\n",
            "Trainable params: 1,843,626\n",
            "Non-trainable params: 448\n",
            "_________________________________________________________________\n",
            "accuracy: 99.07%\n"
          ]
        }
      ]
    },
    {
      "cell_type": "markdown",
      "source": [
        "# Test the Saved Model on one image"
      ],
      "metadata": {
        "id": "Uleb8I4LLUBJ"
      }
    },
    {
      "cell_type": "code",
      "source": [
        "to_predict = np.array([train_x[8]])\n",
        "\n",
        "output = saved_model.predict(to_predict)\n",
        "\n",
        "pixels = to_predict[0].reshape((28, 28))\n",
        "\n",
        "plt.imshow(pixels, cmap='gray')"
      ],
      "metadata": {
        "colab": {
          "base_uri": "https://localhost:8080/",
          "height": 301
        },
        "id": "ALgIR_gN8oJm",
        "outputId": "91e2b8f7-bc89-4b2a-b932-df23d9341fea"
      },
      "execution_count": 50,
      "outputs": [
        {
          "output_type": "stream",
          "name": "stdout",
          "text": [
            "1/1 [==============================] - 0s 165ms/step\n"
          ]
        },
        {
          "output_type": "execute_result",
          "data": {
            "text/plain": [
              "<matplotlib.image.AxesImage at 0x7f28aa4ae520>"
            ]
          },
          "metadata": {},
          "execution_count": 50
        },
        {
          "output_type": "display_data",
          "data": {
            "text/plain": [
              "<Figure size 432x288 with 1 Axes>"
            ],
            "image/png": "[encoded data removed]"
          },
          "metadata": {
            "needs_background": "light"
          }
        }
      ]
    },
    {
      "cell_type": "code",
      "source": [
        "np.argmax(output)"
      ],
      "metadata": {
        "colab": {
          "base_uri": "https://localhost:8080/"
        },
        "id": "WbkZwjPP9nZ-",
        "outputId": "aaef0817-14f6-4067-cdb6-09250c7d2199"
      },
      "execution_count": 51,
      "outputs": [
        {
          "output_type": "execute_result",
          "data": {
            "text/plain": [
              "1"
            ]
          },
          "metadata": {},
          "execution_count": 51
        }
      ]
    },
    {
      "cell_type": "markdown",
      "source": [
        "# Anvil Code Here"
      ],
      "metadata": {
        "id": "Sr0vCcpNLaNb"
      }
    },
    {
      "cell_type": "code",
      "source": [
        "from google.colab import drive\n",
        "drive.mount('/content/drive')"
      ],
      "metadata": {
        "id": "UWsAIZOVY6NC",
        "colab": {
          "base_uri": "https://localhost:8080/",
          "height": 338
        },
        "outputId": "3d8c118d-dfcd-4960-ef2f-3dc0e004bda7"
      },
      "execution_count": 22,
      "outputs": [
        {
          "output_type": "error",
          "ename": "MessageError",
          "evalue": "ignored",
          "traceback": [
            "\u001b[0;31m---------------------------------------------------------------------------\u001b[0m",
            "\u001b[0;31mMessageError\u001b[0m                              Traceback (most recent call last)",
            "\u001b[0;32m<ipython-input-22-d5df0069828e>\u001b[0m in \u001b[0;36m<module>\u001b[0;34m\u001b[0m\n\u001b[1;32m      1\u001b[0m \u001b[0;32mfrom\u001b[0m \u001b[0mgoogle\u001b[0m\u001b[0;34m.\u001b[0m\u001b[0mcolab\u001b[0m \u001b[0;32mimport\u001b[0m \u001b[0mdrive\u001b[0m\u001b[0;34m\u001b[0m\u001b[0;34m\u001b[0m\u001b[0m\n\u001b[0;32m----> 2\u001b[0;31m \u001b[0mdrive\u001b[0m\u001b[0;34m.\u001b[0m\u001b[0mmount\u001b[0m\u001b[0;34m(\u001b[0m\u001b[0;34m'/content/drive'\u001b[0m\u001b[0;34m)\u001b[0m\u001b[0;34m\u001b[0m\u001b[0;34m\u001b[0m\u001b[0m\n\u001b[0m",
            "\u001b[0;32m/usr/local/lib/python3.8/dist-packages/google/colab/drive.py\u001b[0m in \u001b[0;36mmount\u001b[0;34m(mountpoint, force_remount, timeout_ms, readonly)\u001b[0m\n\u001b[1;32m     99\u001b[0m \u001b[0;32mdef\u001b[0m \u001b[0mmount\u001b[0m\u001b[0;34m(\u001b[0m\u001b[0mmountpoint\u001b[0m\u001b[0;34m,\u001b[0m \u001b[0mforce_remount\u001b[0m\u001b[0;34m=\u001b[0m\u001b[0;32mFalse\u001b[0m\u001b[0;34m,\u001b[0m \u001b[0mtimeout_ms\u001b[0m\u001b[0;34m=\u001b[0m\u001b[0;36m120000\u001b[0m\u001b[0;34m,\u001b[0m \u001b[0mreadonly\u001b[0m\u001b[0;34m=\u001b[0m\u001b[0;32mFalse\u001b[0m\u001b[0;34m)\u001b[0m\u001b[0;34m:\u001b[0m\u001b[0;34m\u001b[0m\u001b[0;34m\u001b[0m\u001b[0m\n\u001b[1;32m    100\u001b[0m   \u001b[0;34m\"\"\"Mount your Google Drive at the specified mountpoint path.\"\"\"\u001b[0m\u001b[0;34m\u001b[0m\u001b[0;34m\u001b[0m\u001b[0m\n\u001b[0;32m--> 101\u001b[0;31m   return _mount(\n\u001b[0m\u001b[1;32m    102\u001b[0m       \u001b[0mmountpoint\u001b[0m\u001b[0;34m,\u001b[0m\u001b[0;34m\u001b[0m\u001b[0;34m\u001b[0m\u001b[0m\n\u001b[1;32m    103\u001b[0m       \u001b[0mforce_remount\u001b[0m\u001b[0;34m=\u001b[0m\u001b[0mforce_remount\u001b[0m\u001b[0;34m,\u001b[0m\u001b[0;34m\u001b[0m\u001b[0;34m\u001b[0m\u001b[0m\n",
            "\u001b[0;32m/usr/local/lib/python3.8/dist-packages/google/colab/drive.py\u001b[0m in \u001b[0;36m_mount\u001b[0;34m(mountpoint, force_remount, timeout_ms, ephemeral, readonly)\u001b[0m\n\u001b[1;32m    122\u001b[0m       'TBE_EPHEM_CREDS_ADDR'] if ephemeral else _os.environ['TBE_CREDS_ADDR']\n\u001b[1;32m    123\u001b[0m   \u001b[0;32mif\u001b[0m \u001b[0mephemeral\u001b[0m\u001b[0;34m:\u001b[0m\u001b[0;34m\u001b[0m\u001b[0;34m\u001b[0m\u001b[0m\n\u001b[0;32m--> 124\u001b[0;31m     _message.blocking_request(\n\u001b[0m\u001b[1;32m    125\u001b[0m         'request_auth', request={'authType': 'dfs_ephemeral'}, timeout_sec=None)\n\u001b[1;32m    126\u001b[0m \u001b[0;34m\u001b[0m\u001b[0m\n",
            "\u001b[0;32m/usr/local/lib/python3.8/dist-packages/google/colab/_message.py\u001b[0m in \u001b[0;36mblocking_request\u001b[0;34m(request_type, request, timeout_sec, parent)\u001b[0m\n\u001b[1;32m    169\u001b[0m   request_id = send_request(\n\u001b[1;32m    170\u001b[0m       request_type, request, parent=parent, expect_reply=True)\n\u001b[0;32m--> 171\u001b[0;31m   \u001b[0;32mreturn\u001b[0m \u001b[0mread_reply_from_input\u001b[0m\u001b[0;34m(\u001b[0m\u001b[0mrequest_id\u001b[0m\u001b[0;34m,\u001b[0m \u001b[0mtimeout_sec\u001b[0m\u001b[0;34m)\u001b[0m\u001b[0;34m\u001b[0m\u001b[0;34m\u001b[0m\u001b[0m\n\u001b[0m",
            "\u001b[0;32m/usr/local/lib/python3.8/dist-packages/google/colab/_message.py\u001b[0m in \u001b[0;36mread_reply_from_input\u001b[0;34m(message_id, timeout_sec)\u001b[0m\n\u001b[1;32m    100\u001b[0m         reply.get('colab_msg_id') == message_id):\n\u001b[1;32m    101\u001b[0m       \u001b[0;32mif\u001b[0m \u001b[0;34m'error'\u001b[0m \u001b[0;32min\u001b[0m \u001b[0mreply\u001b[0m\u001b[0;34m:\u001b[0m\u001b[0;34m\u001b[0m\u001b[0;34m\u001b[0m\u001b[0m\n\u001b[0;32m--> 102\u001b[0;31m         \u001b[0;32mraise\u001b[0m \u001b[0mMessageError\u001b[0m\u001b[0;34m(\u001b[0m\u001b[0mreply\u001b[0m\u001b[0;34m[\u001b[0m\u001b[0;34m'error'\u001b[0m\u001b[0;34m]\u001b[0m\u001b[0;34m)\u001b[0m\u001b[0;34m\u001b[0m\u001b[0;34m\u001b[0m\u001b[0m\n\u001b[0m\u001b[1;32m    103\u001b[0m       \u001b[0;32mreturn\u001b[0m \u001b[0mreply\u001b[0m\u001b[0;34m.\u001b[0m\u001b[0mget\u001b[0m\u001b[0;34m(\u001b[0m\u001b[0;34m'data'\u001b[0m\u001b[0;34m,\u001b[0m \u001b[0;32mNone\u001b[0m\u001b[0;34m)\u001b[0m\u001b[0;34m\u001b[0m\u001b[0;34m\u001b[0m\u001b[0m\n\u001b[1;32m    104\u001b[0m \u001b[0;34m\u001b[0m\u001b[0m\n",
            "\u001b[0;31mMessageError\u001b[0m: Error: credential propagation was unsuccessful"
          ]
        }
      ]
    },
    {
      "cell_type": "code",
      "source": [
        "!pip install anvil-uplink\n",
        "import anvil.server\n",
        "anvil.server.connect(\"KM6LGOUXN4YQWHSN3DD4RNKO-BDCFM6HXC4B4SAUA\")"
      ],
      "metadata": {
        "id": "0FLw0vAZLHLq"
      },
      "execution_count": null,
      "outputs": []
    },
    {
      "cell_type": "code",
      "source": [
        "@anvil.server.callable\n",
        "def test_func(fetch_array):\n",
        " return_value = np.argmax(saved_model.predict(np.expand_dims(np.expand_dims(fetch_array, axis=0), axis=3)), axis=1)[0] # saved_model is the model to be used to predict\n",
        " return return_value"
      ],
      "metadata": {
        "id": "NzqlW8qvLhhN"
      },
      "execution_count": null,
      "outputs": []
    },
    {
      "cell_type": "code",
      "source": [
        "anvil.server.wait_forever()"
      ],
      "metadata": {
        "id": "mcYaWAigLli-"
      },
      "execution_count": null,
      "outputs": []
    }
  ]
}