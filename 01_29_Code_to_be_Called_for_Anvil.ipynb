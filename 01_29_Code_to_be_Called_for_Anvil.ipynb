{
  "nbformat": 4,
  "nbformat_minor": 0,
  "metadata": {
    "colab": {
      "provenance": []
    },
    "kernelspec": {
      "name": "python3",
      "display_name": "Python 3"
    },
    "language_info": {
      "name": "python"
    }
  },
  "cells": [
    {
      "cell_type": "markdown",
      "source": [
        "# Upload the best_model.h5 file in the files section here - if the runtime gets disconnected the file gets deleted\n"
      ],
      "metadata": {
        "id": "2UxbR5_SOY5f"
      }
    },
    {
      "cell_type": "code",
      "source": [
        "# This code block is just to test - using train_x array below to test - not needed in the final code\n",
        "from tensorflow.keras.datasets import mnist\n",
        "\n",
        "(train_x, train_y), (test_x, test_y) = mnist.load_data()"
      ],
      "metadata": {
        "colab": {
          "base_uri": "https://localhost:8080/"
        },
        "id": "NPPyfH0jOHMq",
        "outputId": "009990ef-5212-4a72-fc20-654a185dc330"
      },
      "execution_count": null,
      "outputs": [
        {
          "output_type": "stream",
          "name": "stdout",
          "text": [
            "Downloading data from https://storage.googleapis.com/tensorflow/tf-keras-datasets/mnist.npz\n",
            "11490434/11490434 [==============================] - 0s 0us/step\n"
          ]
        }
      ]
    },
    {
      "cell_type": "code",
      "execution_count": null,
      "metadata": {
        "colab": {
          "base_uri": "https://localhost:8080/"
        },
        "id": "tPHd5nnzN2tR",
        "outputId": "fe5953ab-45ef-4806-95c2-5dffcf42265e"
      },
      "outputs": [
        {
          "output_type": "stream",
          "name": "stdout",
          "text": [
            "1/1 [==============================] - 0s 484ms/step\n"
          ]
        },
        {
          "output_type": "execute_result",
          "data": {
            "text/plain": [
              "1"
            ]
          },
          "metadata": {},
          "execution_count": 3
        }
      ],
      "source": [
        "from numpy import loadtxt\n",
        "from tensorflow.keras.models import load_model\n",
        "import numpy as np\n",
        "import pandas as pd\n",
        " \n",
        "# to test put the train_x - in anvil fetch_array shall be passed\n",
        "fetch_array = np.array([train_x[8]])\n",
        " \n",
        "# load model\n",
        "saved_model = load_model('best_model.h5')\n",
        "#return_value = np.argmax(saved_model.predict(np.expand_dims(np.expand_dims(fetch_array, axis=0), axis=3)), axis=1)[0] # saved_model is the model to be used to predict\n",
        "return_value = np.argmax(saved_model.predict(fetch_array))# saved_model is the model to be used to predict\n",
        "return_value"
      ]
    },
    {
      "cell_type": "code",
      "source": [
        "from google.colab import drive\n",
        "drive.mount('/content/drive')"
      ],
      "metadata": {
        "id": "mt45E8Pg4SW0"
      },
      "execution_count": null,
      "outputs": []
    },
    {
      "cell_type": "code",
      "source": [
        "!pip install anvil-uplink\n",
        "import anvil.server\n",
        "anvil.server.connect(\"KM6LGOUXN4YQWHSN3DD4RNKO-BDCFM6HXC4B4SAUA\")"
      ],
      "metadata": {
        "colab": {
          "base_uri": "https://localhost:8080/",
          "height": 355
        },
        "id": "gQlqjAoP4hyX",
        "outputId": "0f7e4619-2c99-48c2-b322-6d16e0d78552"
      },
      "execution_count": null,
      "outputs": [
        {
          "output_type": "stream",
          "name": "stdout",
          "text": [
            "Looking in indexes: https://pypi.org/simple, https://us-python.pkg.dev/colab-wheels/public/simple/\n",
            "Requirement already satisfied: anvil-uplink in /usr/local/lib/python3.8/dist-packages (0.4.1)\n",
            "Requirement already satisfied: six in /usr/local/lib/python3.8/dist-packages (from anvil-uplink) (1.15.0)\n",
            "Requirement already satisfied: ws4py in /usr/local/lib/python3.8/dist-packages (from anvil-uplink) (0.5.1)\n",
            "Collecting argparse\n",
            "  Using cached argparse-1.4.0-py2.py3-none-any.whl (23 kB)\n",
            "Requirement already satisfied: future in /usr/local/lib/python3.8/dist-packages (from anvil-uplink) (0.16.0)\n",
            "Installing collected packages: argparse\n",
            "Successfully installed argparse-1.4.0\n"
          ]
        },
        {
          "output_type": "display_data",
          "data": {
            "application/vnd.colab-display-data+json": {
              "pip_warning": {
                "packages": [
                  "argparse"
                ]
              }
            }
          },
          "metadata": {}
        },
        {
          "output_type": "stream",
          "name": "stdout",
          "text": [
            "Disconnecting from previous connection first...\n",
            "Connecting to wss://anvil.works/uplink\n",
            "Anvil websocket closed (code 1000, reason=b'')\n",
            "Anvil websocket open\n",
            "Connected to \"Default environment\" as SERVER\n"
          ]
        }
      ]
    },
    {
      "cell_type": "code",
      "source": [
        "@anvil.server.callable\n",
        "def test_func(fetch_array):\n",
        " return_value = np.argmax(saved_model.predict(np.expand_dims(np.expand_dims(fetch_array, axis=0), axis=3)), axis=1)[0] # saved_model is the model to be used to predict\n",
        " return return_value"
      ],
      "metadata": {
        "id": "olF1NdLlOByC"
      },
      "execution_count": null,
      "outputs": []
    },
    {
      "cell_type": "code",
      "source": [
        "anvil.server.wait_forever()"
      ],
      "metadata": {
        "id": "4g47tIPP4yF0"
      },
      "execution_count": null,
      "outputs": []
    },
    {
      "cell_type": "code",
      "source": [
        "from pandas import read_csv\n",
        "d = read_csv('test_image.csv')"
      ],
      "metadata": {
        "id": "U8Nkp6NI4sUC"
      },
      "execution_count": null,
      "outputs": []
    },
    {
      "cell_type": "code",
      "source": [
        "d.shape\n"
      ],
      "metadata": {
        "colab": {
          "base_uri": "https://localhost:8080/"
        },
        "id": "iyoytFKW4ydE",
        "outputId": "cfd1d3aa-4697-4c71-8e4b-3c3e1e8a6c7f"
      },
      "execution_count": null,
      "outputs": [
        {
          "output_type": "execute_result",
          "data": {
            "text/plain": [
              "(27, 28)"
            ]
          },
          "metadata": {},
          "execution_count": 10
        }
      ]
    },
    {
      "cell_type": "code",
      "source": [],
      "metadata": {
        "id": "wgy7gb0t469e"
      },
      "execution_count": null,
      "outputs": []
    }
  ]
}